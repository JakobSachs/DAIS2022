{
 "cells": [
  {
   "cell_type": "markdown",
   "id": "55f9b6dc",
   "metadata": {
    "id": "55f9b6dc"
   },
   "source": [
    "# 3 Custom Environments\n",
    "In this task you are asked to create a environment for a reinforcement agent. It's common to create environments for agents by using the openai gym interface. It creates a good baseline for what is necessary to train a RL agent and makes it easy to try out different environments on the same algorithm.\n",
    "If you need more information take a look at the documentation https://www.gymlibrary.ml/.\n",
    "You can find the implementation of all official enviroments on GitHub: https://github.com/openai/gym/tree/master/gym/envs if you need some examples. "
   ]
  },
  {
   "cell_type": "code",
   "execution_count": 13,
   "id": "d46e9eed",
   "metadata": {
    "id": "d46e9eed"
   },
   "outputs": [
    {
     "name": "stdout",
     "output_type": "stream",
     "text": [
      "Requirement already satisfied: gym==0.21.0 in c:\\users\\jakob\\.julia\\conda\\3\\lib\\site-packages (0.21.0)\n",
      "Requirement already satisfied: numpy>=1.18.0 in c:\\users\\jakob\\.julia\\conda\\3\\lib\\site-packages (from gym==0.21.0) (1.22.3)\n",
      "Requirement already satisfied: cloudpickle>=1.2.0 in c:\\users\\jakob\\.julia\\conda\\3\\lib\\site-packages (from gym==0.21.0) (2.1.0)\n",
      "Note: you may need to restart the kernel to use updated packages.\n"
     ]
    }
   ],
   "source": [
    "pip install gym==0.21.0"
   ]
  },
  {
   "cell_type": "code",
   "execution_count": 14,
   "id": "1e12a89a",
   "metadata": {
    "id": "1e12a89a"
   },
   "outputs": [],
   "source": [
    "import gym\n",
    "import numpy as np\n",
    "import time\n",
    "from IPython.display import display, clear_output"
   ]
  },
  {
   "cell_type": "markdown",
   "id": "e4a7d886",
   "metadata": {
    "id": "e4a7d886"
   },
   "source": [
    "## 3.1 The Environment\n",
    "A openai gym environment consists of at least 3 methods. `__init__` the constructor which sets all the necassary values, a `step` function, which describes the behaviour of the environment and a `reset` function, which resets the starting state of the environment. In addition to that usually a `render` function is provided to visualize the behaviour of the environment.\n",
    "\n",
    "#### \\__init__:\n",
    "The Constructor of the environment defines all the necassary variables. To set the bounds of our environment we have to define the action_space and the observartion space. The gym.spaces library contains the necassary functions to do in our case we use gym.spaces.Discrete because we wan to only handle discrete values.\n",
    "The Discrete space works a bit like a range, with some extra methods. A Linear representation of the state is helpful for tabular learning, because it makes creating a Q-Table really easy. \n",
    "\n",
    "#### step:\n",
    "The step method takes an action and returns a tuple of the shape(observation, reward, done). The observation is the result of taking the action. The reward is the reward handet for takin given action in the previous state. The done variable is boolean and indicates if a given scenario has come to an end. \n",
    "\n",
    "#### reset:\n",
    "The reset method rests the start state of the environment. It returns the new state of the environment.\n",
    "\n",
    "#### render:\n",
    "The render method visualizes the state of the environment. There are many different ways to do so i.e. creating a visual representation by using vector graphics or printing to the terminal. \n",
    "We want to focus on the easiest way, by printing the state. Find a good and easily printable representation of the internal state (i.e. a numpy array) and print it. To print over the last output you can call the  function before you print the state.\n",
    "\n",
    "### Encoding and decoding\n",
    "This functions are not necessary for a gym environment. However it might be usefull do write some functions that encode and decode the linearized state to a 2D imensional Form and back.\n",
    "\n",
    "#### decode_action\n",
    "returns the action refering to the index of the action\n",
    "\n",
    "#### decode_state\n",
    "returns a 2D representation of the linear state\n",
    "\n",
    "#### encode_state\n",
    "returns a linear representation of the 2D state.\n",
    "\n",
    "\n",
    "### Task 3.1.1\n",
    "- Create a two dimensional, discrete environment of the size 10x10.\n",
    "- Each episode the agent should start at a random position, while the target always stays at the same position.\n",
    "- The agent should be able to move in all 4 directions, If the agent hits a wall it should do nothing.\n",
    "- An episode ends if the agent reaches the target.\n",
    "- Reaching the target results in a reward of 10, while every other action should give a small negative reward."
   ]
  },
  {
   "cell_type": "code",
   "execution_count": 15,
   "id": "174d6193",
   "metadata": {
    "id": "174d6193"
   },
   "outputs": [],
   "source": [
    "class CustomEnv(gym.Env):\n",
    "    metadata = {\"render.modes\": [\"human\"]}\n",
    "\n",
    "    def __init__(self):\n",
    "        super(CustomEnv, self).__init__()\n",
    "\n",
    "        self.action_space = gym.spaces.Discrete(4)\n",
    "\n",
    "        self.observation_space = gym.spaces.Discrete(10 * 10)\n",
    "\n",
    "        self.agent_state = np.random.randint(0, 9, 2)\n",
    "        self.original_agent_state = self.agent_state\n",
    "        self.target_state = [2, 2]\n",
    "\n",
    "    def step(self, action):\n",
    "        # Write the step method for your enviroment. Make sure you agent does not go out of bounds\n",
    "        # by performing the action.\n",
    "        assert self.action_space.contains(action), \"%r (%s) invalid\" % (\n",
    "            action,\n",
    "            type(action),\n",
    "        )\n",
    "        self.agent_state += self.decode_action(action)\n",
    "\n",
    "        if self.agent_state[0] < 0:\n",
    "            self.agent_state[0] = 0\n",
    "        elif self.agent_state[0] > 9:\n",
    "            self.agent_state[0] = 9\n",
    "        if self.agent_state[1] < 0:\n",
    "            self.agent_state[1] = 0\n",
    "        elif self.agent_state[1] > 9:\n",
    "            self.agent_state[1] = 9\n",
    "\n",
    "        reward = -1\n",
    "        done = False\n",
    "        # check for ending condition\n",
    "        if np.array_equal(self.agent_state, self.target_state):\n",
    "            reward = 10\n",
    "            done = True\n",
    "\n",
    "        return (self.encode_state(self.agent_state), reward, done, _)\n",
    "\n",
    "    def reset(self):\n",
    "        # Write the reset method that results in the starting state\n",
    "        self.agent_state = self.original_agent_state\n",
    "        return self.encode_state(self.agent_state)\n",
    "\n",
    "    def render(self):\n",
    "        print(\" \" + \"_\" * 10 * 3 + \" \")\n",
    "\n",
    "        for i in range(10):\n",
    "            print(\"|\", end=\"\")\n",
    "            for j in range(10):\n",
    "                print(\" \", end=\"\")\n",
    "                if np.array_equal([i, j], self.agent_state):\n",
    "                    print(\"A\", end=\"\")\n",
    "                elif np.array_equal([i, j], self.target_state):\n",
    "                    print(\"T\", end=\"\")\n",
    "                else:\n",
    "                    print(\"_\", end=\"\")\n",
    "                print(\" \", end=\"\")\n",
    "            print(\"|\")\n",
    "\n",
    "    def decode_action(self, action):\n",
    "        # decode a linear action to 2D\n",
    "        return [[-1, 0], [0, 1], [1, 0], [0, -1]][action]\n",
    "\n",
    "    def decode_state(self, state):\n",
    "        # decode a linear state to 2D\n",
    "        return [state // 10, state % 10]\n",
    "\n",
    "    def encode_state(self, state):\n",
    "        # encode a 2D state in 1D\n",
    "        assert len(state) == 2\n",
    "        coord = state[0] + state[1] * 10\n",
    "        assert coord >= 0 and coord < 100, \"Invalid state: %s\" % state\n",
    "        return coord"
   ]
  },
  {
   "cell_type": "markdown",
   "id": "3ebcdafe",
   "metadata": {
    "id": "3ebcdafe"
   },
   "source": [
    "## 3.2 Test with a random agent\n",
    "The following cell allows you to test your enviroment with a random agent."
   ]
  },
  {
   "cell_type": "code",
   "execution_count": 16,
   "id": "a3dc404a",
   "metadata": {
    "id": "a3dc404a"
   },
   "outputs": [
    {
     "name": "stdout",
     "output_type": "stream",
     "text": [
      " ______________________________ \n",
      "| _  _  _  _  _  _  _  _  _  _ |\n",
      "| _  _  _  _  _  _  _  _  _  _ |\n",
      "| _  _  T  _  A  _  _  _  _  _ |\n",
      "| _  _  _  _  _  _  _  _  _  _ |\n",
      "| _  _  _  _  _  _  _  _  _  _ |\n",
      "| _  _  _  _  _  _  _  _  _  _ |\n",
      "| _  _  _  _  _  _  _  _  _  _ |\n",
      "| _  _  _  _  _  _  _  _  _  _ |\n",
      "| _  _  _  _  _  _  _  _  _  _ |\n",
      "| _  _  _  _  _  _  _  _  _  _ |\n"
     ]
    }
   ],
   "source": [
    "env = CustomEnv()\n",
    "done = False\n",
    "i = 50  # added a manual stop so this doesnt run into eternity everytime\n",
    "\n",
    "while done == False and i > 0:\n",
    "    a = env.action_space.sample()\n",
    "    _, _, done, _ = env.step(a)\n",
    "    clear_output(wait=True)\n",
    "    env.render()\n",
    "    time.sleep(0.1)\n",
    "    i -= 1"
   ]
  },
  {
   "cell_type": "markdown",
   "id": "aa73e00f",
   "metadata": {
    "id": "aa73e00f"
   },
   "source": [
    "## Task 3.3 Test with a Q-Learning Agent\n",
    "In the previous task we wrote an agent that used the SARSA algorithm. Now we want to use a similar algorithm, Q-Learning, to solve your own custom environment. And of course visualise your training progress (Cumulative rewards over time).\n",
    "\n",
    "The main difference between SARSA and Q-Learning is the way the Q-Values are calculated. Therefore, you can recycle most of your code."
   ]
  },
  {
   "cell_type": "code",
   "execution_count": 17,
   "id": "3a34d4e1",
   "metadata": {
    "id": "3a34d4e1"
   },
   "outputs": [],
   "source": [
    "def evaluate(policy):\n",
    "    # evaluate a policy by running 20 independent episodes\n",
    "    scores = []\n",
    "    for i in range(20):\n",
    "        obs = env.reset()\n",
    "        score = 0\n",
    "        while True:\n",
    "            action = policy(obs)\n",
    "            obs, reward, done, _ = env.step(action)\n",
    "            score += reward\n",
    "            if done:\n",
    "                break\n",
    "        scores.append(score)\n",
    "\n",
    "    return scores"
   ]
  },
  {
   "cell_type": "code",
   "execution_count": 18,
   "id": "1bb60cc0",
   "metadata": {},
   "outputs": [
    {
     "data": {
      "text/plain": [
       "[<matplotlib.lines.Line2D at 0x1ceaae15b20>]"
      ]
     },
     "execution_count": 18,
     "metadata": {},
     "output_type": "execute_result"
    },
    {
     "data": {
      "image/png": "[encoded data removed]",
      "text/plain": [
       "<Figure size 432x288 with 1 Axes>"
      ]
     },
     "metadata": {
      "needs_background": "light"
     },
     "output_type": "display_data"
    }
   ],
   "source": [
    "epsilon = 0.1\n",
    "gamma = 0.99\n",
    "learning_rate = 0.2\n",
    "Q = np.zeros([env.observation_space.n, env.action_space.n])\n",
    "episodes = 40000\n",
    "\n",
    "\n",
    "def eps_greedy(state):\n",
    "    if np.random.random() < epsilon:\n",
    "        return env.action_space.sample()\n",
    "    else:\n",
    "        return np.argmax(Q[state])\n",
    "\n",
    "\n",
    "def update_table(s, a, delta):\n",
    "    Q[s, a] += learning_rate * delta\n",
    "\n",
    "\n",
    "def train():\n",
    "    scores = []\n",
    "    for _ in range(episodes):\n",
    "        s = env.reset()\n",
    "        score = 0\n",
    "\n",
    "        while True:\n",
    "            a = eps_greedy(s)\n",
    "            next_s, r, done, _ = env.step(a)\n",
    "\n",
    "            old_value = Q[s, a]\n",
    "            next_max = np.max(Q[next_s])\n",
    "\n",
    "            Q[s, a] = (1 - learning_rate) * old_value + learning_rate * (\n",
    "                r + gamma * next_max\n",
    "            )\n",
    "            s = next_s\n",
    "            score += r\n",
    "            if done:\n",
    "                break\n",
    "        scores.append(score)\n",
    "    return scores\n",
    "\n",
    "\n",
    "results = train()\n",
    "\n",
    "import matplotlib.pyplot as plt\n",
    "\n",
    "plt.title(\"Training Results (Q-learning)\")\n",
    "plt.xlabel(\"Episodes\")\n",
    "plt.ylabel(\"Score\")\n",
    "plt.plot(results)"
   ]
  },
  {
   "cell_type": "code",
   "execution_count": 22,
   "id": "22b5526c",
   "metadata": {},
   "outputs": [
    {
     "name": "stdout",
     "output_type": "stream",
     "text": [
      " ______________________________ \n",
      "| _  _  _  _  _  _  _  _  _  _ |\n",
      "| _  _  _  _  _  _  _  _  _  _ |\n",
      "| _  _  T  _  _  _  _  _  _  _ |\n",
      "| _  _  _  _  _  _  _  A  _  _ |\n",
      "| _  _  _  _  _  _  _  _  _  _ |\n",
      "| _  _  _  _  _  _  _  _  _  _ |\n",
      "| _  _  _  _  _  _  _  _  _  _ |\n",
      "| _  _  _  _  _  _  _  _  _  _ |\n",
      "| _  _  _  _  _  _  _  _  _  _ |\n",
      "| _  _  _  _  _  _  _  _  _  _ |\n"
     ]
    },
    {
     "ename": "KeyboardInterrupt",
     "evalue": "",
     "output_type": "error",
     "traceback": [
      "\u001b[1;31m---------------------------------------------------------------------------\u001b[0m",
      "\u001b[1;31mKeyboardInterrupt\u001b[0m                         Traceback (most recent call last)",
      "\u001b[1;32m~\\AppData\\Local\\Temp/ipykernel_4544/3333606669.py\u001b[0m in \u001b[0;36m<module>\u001b[1;34m\u001b[0m\n\u001b[0;32m      9\u001b[0m     \u001b[0mclear_output\u001b[0m\u001b[1;33m(\u001b[0m\u001b[0mwait\u001b[0m\u001b[1;33m=\u001b[0m\u001b[1;32mTrue\u001b[0m\u001b[1;33m)\u001b[0m\u001b[1;33m\u001b[0m\u001b[1;33m\u001b[0m\u001b[0m\n\u001b[0;32m     10\u001b[0m     \u001b[0menv\u001b[0m\u001b[1;33m.\u001b[0m\u001b[0mrender\u001b[0m\u001b[1;33m(\u001b[0m\u001b[1;33m)\u001b[0m\u001b[1;33m\u001b[0m\u001b[1;33m\u001b[0m\u001b[0m\n\u001b[1;32m---> 11\u001b[1;33m     \u001b[0mtime\u001b[0m\u001b[1;33m.\u001b[0m\u001b[0msleep\u001b[0m\u001b[1;33m(\u001b[0m\u001b[1;36m0.1\u001b[0m\u001b[1;33m)\u001b[0m\u001b[1;33m\u001b[0m\u001b[1;33m\u001b[0m\u001b[0m\n\u001b[0m",
      "\u001b[1;31mKeyboardInterrupt\u001b[0m: "
     ]
    }
   ],
   "source": [
    "env = CustomEnv()\n",
    "done = False\n",
    "s = env.reset()\n",
    "while done == False:\n",
    "\n",
    "    a = np.argmax(Q[s])\n",
    "    s, _, done, _ = env.step(a)\n",
    "\n",
    "    clear_output(wait=True)\n",
    "    env.render()\n",
    "    time.sleep(0.1)"
   ]
  },
  {
   "cell_type": "markdown",
   "id": "8ea757dd",
   "metadata": {
    "id": "8ea757dd"
   },
   "source": [
    "### Task 3.3.1 Size concerns for Tabular RL:\n",
    "The table for learning our simple enviroment has the size 100x4 for now. Since we have 100 possible States and 4 actions. How much bigger would the table get if we allowed the target to be placed anywhere?  "
   ]
  },
  {
   "cell_type": "code",
   "execution_count": 20,
   "id": "4a53e6db",
   "metadata": {
    "id": "4a53e6db"
   },
   "outputs": [],
   "source": [
    "# Right now we have 100 different states, since the agent can be  anywhere on\n",
    "# the 10x10 grid, but the target location is static\n",
    "# (so not part of the dynamic state). If we allowed for the target to be placed\n",
    "# randomly, so in one of 100 different locations, we would have 100 x 100\n",
    "# different possible states. So our Matrix would grow to a 10000x4 big matrix.\n",
    "# If we assume the matrix is using a double precission float, the matrix would\n",
    "# use 320 kB of memory (prior 3.2kB)"
   ]
  }
 ],
 "metadata": {
  "colab": {
   "name": "CustomEnvironment.ipynb",
   "provenance": []
  },
  "interpreter": {
   "hash": "2a2892602ff1729df00a2fd3e807d6b422d83bb53afb12387f9daea05a7313bf"
  },
  "kernelspec": {
   "display_name": "Python 3.9.7",
   "language": "python",
   "name": "python3"
  },
  "language_info": {
   "codemirror_mode": {
    "name": "ipython",
    "version": 3
   },
   "file_extension": ".py",
   "mimetype": "text/x-python",
   "name": "python",
   "nbconvert_exporter": "python",
   "pygments_lexer": "ipython3",
   "version": "3.9.7"
  }
 },
 "nbformat": 4,
 "nbformat_minor": 5
}
