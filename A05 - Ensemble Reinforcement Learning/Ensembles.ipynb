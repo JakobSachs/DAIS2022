{
 "cells": [
  {
   "cell_type": "markdown",
   "id": "583d1489",
   "metadata": {},
   "source": [
    "# 1 Ensemble Learning"
   ]
  },
  {
   "cell_type": "markdown",
   "id": "d6b86ad2",
   "metadata": {},
   "source": [
    "This task will be some hands-on programming of two different ensemble learning techniques, i.e. bagging and boosting. More specifically, we will use the [Bagging Classifier](https://scikit-learn.org/stable/modules/generated/sklearn.ensemble.BaggingClassifier.html) as well as [AdaBoost Classifier](https://scikit-learn.org/stable/modules/generated/sklearn.ensemble.AdaBoostClassifier.html) provided by the scikit-learn library.\n",
    "\n",
    "As you are already familiar with loading datasets, splitting into training and test data, fitting a classifier etc., we will this time just give you hints about what steps to do. Also, we will give you some libraries to import, so that you have a good impression already about what you might need for this task. You can use additional imports of course, but please stick with the libraries we have used in this course so far!"
   ]
  },
  {
   "cell_type": "code",
   "execution_count": 1,
   "id": "0ad011a4",
   "metadata": {},
   "outputs": [],
   "source": [
    "# Load libraries\n",
    "import numpy as np\n",
    "from sklearn import datasets\n",
    "from sklearn import metrics\n",
    "from sklearn.ensemble import BaggingClassifier\n",
    "from sklearn.ensemble import AdaBoostClassifier\n",
    "\n",
    "# Additional imports here, if needed\n",
    "\n",
    "np.random.seed(42)"
   ]
  },
  {
   "cell_type": "markdown",
   "id": "b4df304a",
   "metadata": {},
   "source": [
    "## 1.1 Load and Split **Digits** Dataset"
   ]
  },
  {
   "cell_type": "markdown",
   "id": "3bcaef78",
   "metadata": {},
   "source": [
    "### Task 1.1.1 Load dataset \n",
    "\n",
    "Load the [Digits Toy Dataset](https://scikit-learn.org/stable/datasets/toy_dataset.html#digits-dataset) provided by Scikit-Learn and save it in the variable given below. Make sure that **all 10 digits** are included in the dataset."
   ]
  },
  {
   "cell_type": "code",
   "execution_count": 2,
   "id": "bdfe78d7",
   "metadata": {},
   "outputs": [
    {
     "name": "stdout",
     "output_type": "stream",
     "text": [
      ".. _digits_dataset:\n",
      "\n",
      "Optical recognition of handwritten digits dataset\n",
      "--------------------------------------------------\n",
      "\n",
      "**Data Set Characteristics:**\n",
      "\n",
      "    :Number of Instances: 1797\n",
      "    :Number of Attributes: 64\n",
      "    :Attribute Information: 8x8 image of integer pixels in the range 0..16.\n",
      "    :Missing Attribute Values: None\n",
      "    :Creator: E. Alpaydin (alpaydin '@' boun.edu.tr)\n",
      "    :Date: July; 1998\n",
      "\n",
      "This is a copy of the test set of the UCI ML hand-written digits datasets\n",
      "https://archive.ics.uci.edu/ml/datasets/Optical+Recognition+of+Handwritten+Digits\n",
      "\n",
      "The data set contains images of hand-written digits: 10 classes where\n",
      "each class refers to a digit.\n",
      "\n",
      "Preprocessing programs made available by NIST were used to extract\n",
      "normalized bitmaps of handwritten digits from a preprinted form. From a\n",
      "total of 43 people, 30 contributed to the training set and different 13\n",
      "to the test set. 32x32 bitmaps are divided into nonoverlapping blocks of\n",
      "4x4 and the number of on pixels are counted in each block. This generates\n",
      "an input matrix of 8x8 where each element is an integer in the range\n",
      "0..16. This reduces dimensionality and gives invariance to small\n",
      "distortions.\n",
      "\n",
      "For info on NIST preprocessing routines, see M. D. Garris, J. L. Blue, G.\n",
      "T. Candela, D. L. Dimmick, J. Geist, P. J. Grother, S. A. Janet, and C.\n",
      "L. Wilson, NIST Form-Based Handprint Recognition System, NISTIR 5469,\n",
      "1994.\n",
      "\n",
      ".. topic:: References\n",
      "\n",
      "  - C. Kaynak (1995) Methods of Combining Multiple Classifiers and Their\n",
      "    Applications to Handwritten Digit Recognition, MSc Thesis, Institute of\n",
      "    Graduate Studies in Science and Engineering, Bogazici University.\n",
      "  - E. Alpaydin, C. Kaynak (1998) Cascading Classifiers, Kybernetika.\n",
      "  - Ken Tang and Ponnuthurai N. Suganthan and Xi Yao and A. Kai Qin.\n",
      "    Linear dimensionalityreduction using relevance weighted LDA. School of\n",
      "    Electrical and Electronic Engineering Nanyang Technological University.\n",
      "    2005.\n",
      "  - Claudio Gentile. A New Approximate Maximal Margin Classification\n",
      "    Algorithm. NIPS. 2000.\n",
      "\n"
     ]
    }
   ],
   "source": [
    "digits = datasets.load_digits()\n",
    "\n",
    "print(digits.DESCR)"
   ]
  },
  {
   "cell_type": "markdown",
   "id": "f0525e20",
   "metadata": {},
   "source": [
    "### Task 1.1.2 Save feature and target data\n",
    "\n",
    "Save the feature data from the dataset (i.e. the vectors representing the digits) and the respective target labels in two different variables *X* and *y*."
   ]
  },
  {
   "cell_type": "code",
   "execution_count": 3,
   "id": "075926da",
   "metadata": {},
   "outputs": [
    {
     "data": {
      "text/plain": [
       "(1797, 64)"
      ]
     },
     "execution_count": 3,
     "metadata": {},
     "output_type": "execute_result"
    }
   ],
   "source": [
    "X = digits.data\n",
    "y = digits.target\n",
    "\n",
    "X.shape"
   ]
  },
  {
   "cell_type": "markdown",
   "id": "1322257b",
   "metadata": {},
   "source": [
    "### Task 1.1.3 Split train and test data\n",
    "\n",
    "Split all data into train and test set, denoting your training set *(X_train, y_train)* and your test set *(X_test, y_test)*. We want to have 70% of the samples for training and 30% of the samples for testing."
   ]
  },
  {
   "cell_type": "code",
   "execution_count": 4,
   "id": "7969cab3",
   "metadata": {},
   "outputs": [],
   "source": [
    "X_train = X[: int(0.7 * X.shape[0])]\n",
    "y_train = y[: int(0.7 * y.shape[0])]\n",
    "\n",
    "X_test = X[int(0.7 * X.shape[0]) :]\n",
    "y_test = y[int(0.7 * y.shape[0]) :]"
   ]
  },
  {
   "cell_type": "markdown",
   "id": "30b3a37e",
   "metadata": {},
   "source": [
    "## Task 1.2 Bagging Classifier"
   ]
  },
  {
   "cell_type": "markdown",
   "id": "7a684cb0",
   "metadata": {},
   "source": [
    "### Task 1.2.1 Train Classifier\n",
    "\n",
    "Create a **Bagging Classifier** object and train it on the given training data you got from task 1.1.3. You can play with different sets of parameters for the classifier (such as number of estimators etc.), but please keep the original base estimator (i.e. decision tree)."
   ]
  },
  {
   "cell_type": "code",
   "execution_count": 5,
   "id": "26b33171",
   "metadata": {},
   "outputs": [],
   "source": [
    "bc = BaggingClassifier(n_estimators=100, random_state=401)\n",
    "\n",
    "bc_model = bc.fit(X_train, y_train)"
   ]
  },
  {
   "cell_type": "markdown",
   "id": "ca6aed0d",
   "metadata": {},
   "source": [
    "### Task 1.2.2 Evaluate Classifier\n",
    "\n",
    "Now it's time to see how the classifier performs. Make the prediction of target labels *y_pred* based on the test samples and print the accuracy of the model."
   ]
  },
  {
   "cell_type": "code",
   "execution_count": 67,
   "id": "907a3964",
   "metadata": {},
   "outputs": [
    {
     "name": "stdout",
     "output_type": "stream",
     "text": [
      "Accuracy of Bagging Classifier on Digits Dataset: 0.8778\n"
     ]
    }
   ],
   "source": [
    "bc_accuracy = metrics.accuracy_score(y_test, bc_model.predict(X_test))\n",
    "\n",
    "print(\"Accuracy of Bagging Classifier on Digits Dataset: %.4f\" % bc_accuracy)"
   ]
  },
  {
   "cell_type": "markdown",
   "id": "c0a2cb57",
   "metadata": {},
   "source": [
    "Great, you're done! Now it's time to do the same few steps using the AdaBoost classifier."
   ]
  },
  {
   "cell_type": "markdown",
   "id": "6ab3ad56",
   "metadata": {},
   "source": [
    "## Task 1.3 AdaBoost Classifier"
   ]
  },
  {
   "cell_type": "markdown",
   "id": "6890d1ce",
   "metadata": {},
   "source": [
    "### Task 1.3.1 Train Classifier\n",
    "\n",
    "Create an **AdaBoost Classifier** object and train it on the given training data you got from task 1.1.3. You can play with different sets of parameters for the classifier (such as number of estimators, learning rate etc.), but please keep the original base estimator (i.e. decision tree)."
   ]
  },
  {
   "cell_type": "code",
   "execution_count": 96,
   "id": "d07eab24",
   "metadata": {},
   "outputs": [],
   "source": [
    "abc = AdaBoostClassifier(n_estimators=30, learning_rate=0.15)\n",
    "\n",
    "abc_model = abc.fit(X_train, y_train)"
   ]
  },
  {
   "cell_type": "markdown",
   "id": "50442418",
   "metadata": {},
   "source": [
    "### Task 1.3.2 Evaluate Classifier\n",
    "\n",
    "Once again it's time to see how the classifier performs. Make the prediction of target labels *y_pred* based on the test samples and print the accuracy of the model."
   ]
  },
  {
   "cell_type": "code",
   "execution_count": 97,
   "id": "08f853f2",
   "metadata": {},
   "outputs": [
    {
     "name": "stdout",
     "output_type": "stream",
     "text": [
      "Accuracy of AdaBoost Classifier on Digits Dataset: 0.7574\n"
     ]
    }
   ],
   "source": [
    "abc_accuracy = metrics.accuracy_score(y_test, abc_model.predict(X_test))\n",
    "\n",
    "print(\"Accuracy of AdaBoost Classifier on Digits Dataset: %.4f\" % abc_accuracy)"
   ]
  },
  {
   "cell_type": "markdown",
   "id": "2da78ccc",
   "metadata": {},
   "source": [
    "_________________________\n",
    "\n",
    "You're done! Are the accuracy results as you had expected? If not, feel free to adjust some parameters to maximize your outcome. Either way, you might have just written your very first ensemble classifiers in python!"
   ]
  }
 ],
 "metadata": {
  "kernelspec": {
   "display_name": "Python 3.9.7",
   "language": "python",
   "name": "python3"
  },
  "language_info": {
   "codemirror_mode": {
    "name": "ipython",
    "version": 3
   },
   "file_extension": ".py",
   "mimetype": "text/x-python",
   "name": "python",
   "nbconvert_exporter": "python",
   "pygments_lexer": "ipython3",
   "version": "3.9.7"
  },
  "vscode": {
   "interpreter": {
    "hash": "2a2892602ff1729df00a2fd3e807d6b422d83bb53afb12387f9daea05a7313bf"
   }
  }
 },
 "nbformat": 4,
 "nbformat_minor": 5
}
