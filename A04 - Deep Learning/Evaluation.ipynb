{
 "cells": [
  {
   "cell_type": "markdown",
   "id": "97455328",
   "metadata": {},
   "source": [
    "## Model Evaluation\n",
    "In this task, we will take a look at the evaluation of a classifier. As a starting point, we give you some functions that allow you to train a classifier with [PyTorch](https://pytorch.org). PyTorch is a bit more advanced than scikit-learn and needs you to do more of the busy work yourself.\n",
    "On the other hand, it gives you the freedom to manually create your own training schemes and network configurations. Together with [tensorflow](https://www.tensorflow.org), it is the de facto industry standard when it comes to neural network training.\n",
    "For this task, it's not really necessary to understand the PyTorch code. But if you're interested in learning PyTorch, try to follow along by reading the comments. Don't worry if you don't understand everything. Just be aware that for our purpose `torch.tensor` behaves mostly like `numpy.array` which you should be familiar with by now.\n",
    "\n",
    "\n",
    "A great opportunity to learn more is the [tutorial section of the PyTorch homepage](https://pytorch.org/tutorials/) which provides many tutorials on different machine learning tasks. If you want to find information on a given function, take a look at the [documentation section](https://pytorch.org/docs/stable/index.html)."
   ]
  },
  {
   "cell_type": "code",
   "execution_count": null,
   "id": "6e5ff570",
   "metadata": {},
   "outputs": [],
   "source": [
    "# install the required packages\n",
    "!python -m pip install torch\n",
    "!python -m pip install sklearn"
   ]
  },
  {
   "cell_type": "code",
   "execution_count": null,
   "id": "32f13a37",
   "metadata": {},
   "outputs": [],
   "source": [
    "import torch\n",
    "from torch.utils.data import Dataset, DataLoader\n",
    "from sklearn.datasets import load_wine\n",
    "from sklearn.preprocessing import StandardScaler\n",
    "torch.manual_seed(0)"
   ]
  },
  {
   "cell_type": "markdown",
   "id": "ec8391fd",
   "metadata": {},
   "source": [
    "### Load the Data\n",
    "We load the boston dataset from scikit learn and normalize it with z-score transformation. Afterwards we shuffle the data because it is ordered by class and this order would mess with the kfold crossvalidation you are going to implement."
   ]
  },
  {
   "cell_type": "code",
   "execution_count": null,
   "id": "1ccc446e",
   "metadata": {},
   "outputs": [],
   "source": [
    "wine = load_wine()\n",
    "data = wine[\"data\"]\n",
    "\n",
    "target = torch.from_numpy(wine[\"target\"])\n",
    "\n",
    "# scale the data to mean = 0 and var = 1\n",
    "scaler = StandardScaler()\n",
    "scaler.fit(data)\n",
    "data = torch.from_numpy(scaler.transform(data)).float()\n",
    "\n",
    "# because the data is ordered, we need to shuffle it\n",
    "shuffle_seed = torch.randperm(data.shape[0])\n",
    "data = data[shuffle_seed]\n",
    "target = target[shuffle_seed]\n",
    "\n",
    "attribute_count = data.shape[1]\n",
    "label_count = len(wine[\"target_names\"])"
   ]
  },
  {
   "cell_type": "markdown",
   "id": "ee5b7ce4",
   "metadata": {},
   "source": [
    "As you should already know you can print the information about the dataset with the `DESCR` key:"
   ]
  },
  {
   "cell_type": "code",
   "execution_count": null,
   "id": "26d787d7",
   "metadata": {},
   "outputs": [],
   "source": [
    "print(wine[\"DESCR\"])"
   ]
  },
  {
   "cell_type": "markdown",
   "id": "01b2fc39",
   "metadata": {},
   "source": [
    "### Define and Initialize Model\n",
    "Here we define our model. Some of the values are fixed by our dataset, like the number of input neurons and the number of output neurons. \n",
    "The hidden layers can be varied and are given in here as a list of integers, where every element defines the number of neurons in a hidden layer, i.e.<br>`hidden_layers=[10,10]` defines a neural network with two hidden layers with 10 neurons each."
   ]
  },
  {
   "cell_type": "code",
   "execution_count": null,
   "id": "f75984ff",
   "metadata": {},
   "outputs": [],
   "source": [
    "def create_model(hidden_layers = [],input_size = attribute_count, output_size = label_count, \n",
    "                 activation = torch.nn.ReLU(),output_activation = torch.nn.Identity()):\n",
    "    # the list of sizes is usefull to manage the input and output sizes of the layers in our network\n",
    "    sizes = [input_size] + hidden_layers + [output_size]\n",
    "    \n",
    "    # the list of layers will be combined by using nn.Sequential to easily create a feed forwad network\n",
    "    # from a list of layers and activation functions\n",
    "    layers = []\n",
    "    \n",
    "    for i in range(len(sizes)-1):\n",
    "        # choose the inner activation function for all layers except the last one\n",
    "        act = activation if i < len(sizes) -2 else output_activation\n",
    "        # concatenate a Linear layer and the activation function with our layer list\n",
    "        layers+= [torch.nn.Linear(sizes[i],sizes[i+1]),act]\n",
    "    \n",
    "    # create the neural network from our layer list\n",
    "    return torch.nn.Sequential(*layers)"
   ]
  },
  {
   "cell_type": "markdown",
   "id": "63fea9e7",
   "metadata": {},
   "source": [
    "### Training Loop\n",
    "The `train_model` function contains the training loop for a given model. Mandatory inputs are `model`, `data`, `target`, and `epochs`. "
   ]
  },
  {
   "cell_type": "code",
   "execution_count": null,
   "id": "25616ba2",
   "metadata": {},
   "outputs": [],
   "source": [
    "def trainModel(model, data, target, epochs, lr = 0.01, batchsize = 20, shuffle = False):\n",
    "    # define the loss function (here, we use cross-entropy) \n",
    "    criterion = torch.nn.CrossEntropyLoss()\n",
    "    \n",
    "    # the optimization method for the weights (Adam or Stochastic Gradient Descent (SGD) are common practice)\n",
    "    optimizer = torch.optim.Adam(model.parameters(),lr=lr)\n",
    "    \n",
    "    # loop n times over the dataset\n",
    "    for epoch in range(epochs):\n",
    "        \n",
    "        # it may be helpful to shuffle your data every epoch, we don't do it here for reproducibility reasons\n",
    "        if shuffle:\n",
    "            seed = torch.randperm(data.shape[0])\n",
    "            data = data[seed]\n",
    "            target = target[seed]\n",
    "        for index in range(0,len(data),batchsize):\n",
    "            \n",
    "            # create the batch\n",
    "            batch_last = index + batchsize\n",
    "            data_batch = data[index: batch_last] if batch_last < data.shape[0] else data[index: -1]\n",
    "            target_batch = target[index: batch_last] if batch_last < target.shape[0] else target[index: -1]\n",
    "            \n",
    "            # forwad pass\n",
    "            \n",
    "            # calculate the outputs\n",
    "            scores = model(data_batch)\n",
    "            # calculate the loss\n",
    "            loss = criterion(scores, target_batch)\n",
    "            \n",
    "            # backpropagation\n",
    "            \n",
    "            # the gradient has to be set to zero before calculating the new gradients\n",
    "            optimizer.zero_grad()\n",
    "            # propagate the loss backwards through the network\n",
    "            loss.backward()\n",
    "            # update the weights\n",
    "            optimizer.step()\n",
    "    \n",
    "    # return the trained model       \n",
    "    return model\n",
    "    "
   ]
  },
  {
   "cell_type": "markdown",
   "id": "2f4a69c5",
   "metadata": {},
   "source": [
    "### Make predictions\n",
    "The `predict` function takes the model and some data and predicts the class associated with the data."
   ]
  },
  {
   "cell_type": "code",
   "execution_count": null,
   "id": "2d001ee2",
   "metadata": {},
   "outputs": [],
   "source": [
    "def predict(data, model):\n",
    "    # if a single datapoint is given, we have to unsqueeze it to handle more than one datapoint as well\n",
    "    if len(data.shape) == 1:\n",
    "        data = data.unsqueeze(0)\n",
    "    \n",
    "    # find the output of our model that has the largest value and use it as our prediction\n",
    "    _, prediction = model(data).max(1)\n",
    "    \n",
    "    return prediction"
   ]
  },
  {
   "cell_type": "markdown",
   "id": "1bd8fa70",
   "metadata": {},
   "source": [
    "### Accuracy\n",
    "The `calculate_accuracy` function takes some data and the asscociated targets and a model and calculates the accuracy of the model on the data."
   ]
  },
  {
   "cell_type": "code",
   "execution_count": null,
   "id": "8d4c1864",
   "metadata": {},
   "outputs": [],
   "source": [
    "def calculate_accuracy(data, target, model):\n",
    "    num_samples = data.shape[0]\n",
    "    \n",
    "    # switch to evaluation mode\n",
    "    model.eval()\n",
    "    \n",
    "    with torch.no_grad():\n",
    "        # generate the predictions for the data from our model\n",
    "        prediction = predict(data,model)\n",
    "        # count correct predictions\n",
    "        num_correct = (prediction == target).sum()\n",
    "        # calculate accuracy (proportion of correct predictions)\n",
    "        return num_correct/num_samples\n"
   ]
  },
  {
   "cell_type": "markdown",
   "id": "5234ab76",
   "metadata": {},
   "source": [
    "### Putting it all together\n",
    "Now it is time to put it all together. We create a model with two hidden layers with 100 neurons each and train it on the whole dataset. After that, we evaluate the accuracy of our model on the training data."
   ]
  },
  {
   "cell_type": "code",
   "execution_count": null,
   "id": "19642ae1",
   "metadata": {},
   "outputs": [],
   "source": [
    "model = create_model([10])\n",
    "model = trainModel(model, data, target, 50, lr = 0.01)\n",
    "accuracy = calculate_accuracy(data,target, model)\n",
    "\n",
    "print(f\"Accuracy on training set: {accuracy*100:.2f}\")"
   ]
  },
  {
   "cell_type": "markdown",
   "id": "727994e6",
   "metadata": {},
   "source": [
    "### Task 3.1 Cross-Validation\n",
    "100% accuracy looks really good, but maybe it is too good to be true. Until now, we had trained on the same set of data that we used for evaluation. This is a bad practice, especially for small datasets like ours, because our network may be overfitting.\n",
    "\n",
    "Now it's your turn: Write a function that performs k-fold cross-validation on the dataset to test the quality of your model. To do so, split the data into k training and test subsets. Train multiple models on the training data and evaluate the accuracy on the test data.\n",
    "\n",
    "Return the different results as well as the average accuracy."
   ]
  },
  {
   "cell_type": "code",
   "execution_count": null,
   "id": "2cc2a619",
   "metadata": {},
   "outputs": [],
   "source": [
    "def kfold_crossvalidation(k, data, target, hidden = [100], epochs  = 50, lr = 0.01):\n",
    "    # your code here\n",
    "    return accuracies, avg_accuracy"
   ]
  },
  {
   "cell_type": "markdown",
   "id": "7ce1c72d",
   "metadata": {},
   "source": [
    "### Test k-fold Cross-Validation\n",
    "The following code can be used to test your implementation. If your average accuracy is at ~98%, you probably have done it correctly."
   ]
  },
  {
   "cell_type": "code",
   "execution_count": null,
   "id": "b4c3d0a4",
   "metadata": {},
   "outputs": [],
   "source": [
    "torch.manual_seed(0)\n",
    "kfold_crossvalidation(10, data, target, [10], 10, 0.01)"
   ]
  },
  {
   "cell_type": "markdown",
   "id": "9828f9c4",
   "metadata": {},
   "source": [
    "### Task 3.2 Calculate the Confusion Matrix\n",
    "Since our model is not as perfect as it seems, let's find out what kind of misclassifications it produced. Write a function that calculates the confusion matrix for our data. To do so, create a m x m matrix with m as the number of classes. Predict the classes and compare the prediction with the target. Sum up how often the inputs of each class were assigned to the different classes by our classifier."
   ]
  },
  {
   "cell_type": "code",
   "execution_count": null,
   "id": "ac61c64d",
   "metadata": {},
   "outputs": [],
   "source": [
    "def confusion_matrix(data,target,model):\n",
    "    # your code here\n",
    "    return confusion_matrix"
   ]
  },
  {
   "cell_type": "markdown",
   "id": "1e0b5c08",
   "metadata": {},
   "source": [
    "### Test the Confusion Matrix\n",
    "The following code can be used to test your confusion matrix."
   ]
  },
  {
   "cell_type": "code",
   "execution_count": null,
   "id": "af7fbb52",
   "metadata": {},
   "outputs": [],
   "source": [
    "torch.manual_seed(0)\n",
    "\n",
    "training_data = data[0:120]\n",
    "training_target = target[0:120]\n",
    "\n",
    "test_data = data[120:-1]\n",
    "test_target = target[120:-1]\n",
    "\n",
    "model = create_model([10])\n",
    "model = trainModel(model, training_data, training_target, 10, lr = 0.01)\n",
    "\n",
    "print(confusion_matrix(test_data, test_target, model))"
   ]
  },
  {
   "cell_type": "markdown",
   "id": "d2e6d7d3",
   "metadata": {},
   "source": [
    "### Task 3.3 Interpret the Confusion Matrix\n",
    "\n",
    "Take a look at the confusion matrix you calculated. What kind of error(s) did our model produce?"
   ]
  },
  {
   "cell_type": "code",
   "execution_count": null,
   "id": "73d49b0e",
   "metadata": {},
   "outputs": [],
   "source": [
    "# your answer here"
   ]
  }
 ],
 "metadata": {
  "kernelspec": {
   "display_name": "Python 3 (ipykernel)",
   "language": "python",
   "name": "python3"
  },
  "language_info": {
   "codemirror_mode": {
    "name": "ipython",
    "version": 3
   },
   "file_extension": ".py",
   "mimetype": "text/x-python",
   "name": "python",
   "nbconvert_exporter": "python",
   "pygments_lexer": "ipython3",
   "version": "3.9.6"
  }
 },
 "nbformat": 4,
 "nbformat_minor": 5
}
