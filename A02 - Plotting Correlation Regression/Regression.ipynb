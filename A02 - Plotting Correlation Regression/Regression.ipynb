{
 "cells": [
  {
   "cell_type": "markdown",
   "id": "2ff7fdda",
   "metadata": {},
   "source": [
    "# 4 Regression"
   ]
  },
  {
   "cell_type": "markdown",
   "id": "70869208",
   "metadata": {},
   "source": [
    "In this task, we want to combine the acquired knowledge about data exploration, plotting and, linear correlations.\n",
    "We will write a simple prediction algorithm, a univariate regression, in Python!"
   ]
  },
  {
   "cell_type": "code",
   "execution_count": null,
   "id": "3c75291a",
   "metadata": {},
   "outputs": [],
   "source": [
    "# import libraries\n",
    "import numpy as np\n",
    "import matplotlib.pyplot as plt\n",
    "%matplotlib inline\n",
    "from sklearn import datasets"
   ]
  },
  {
   "cell_type": "markdown",
   "id": "a4362ae3",
   "metadata": {},
   "source": [
    "## 4.1 Get the data\n",
    "We will utilize the same dataset as in _PlottingCorrelation.ipynb_."
   ]
  },
  {
   "cell_type": "code",
   "execution_count": null,
   "id": "54c4d253",
   "metadata": {},
   "outputs": [],
   "source": [
    "diabetes = datasets.load_diabetes()"
   ]
  },
  {
   "cell_type": "markdown",
   "id": "8c21cbb8",
   "metadata": {},
   "source": [
    "One might remember that the dataset had 10 features and 1 target. For machine learning purposes, one feature is labeled as the target because it is often the goal to predict this feature of interest out of other features.\n",
    "\n",
    "Our task will now also be to predict the target feature (Response, \"RESP\"), the progression of the diabetes disease one year after baseline, via a regression.\n",
    "\n",
    "First, we need to find which feature would be a good candidate for predicting the target. Correlation can be a good indicator for close relationships of different features."
   ]
  },
  {
   "cell_type": "code",
   "execution_count": null,
   "id": "d88bf99e",
   "metadata": {},
   "outputs": [],
   "source": [
    "data = np.concatenate((diabetes[\"data\"], diabetes[\"target\"].reshape(-1,1)),\n",
    "                      axis=1)\n",
    "names = list(diabetes[\"feature_names\"]) + [\"RESP\"]\n",
    "corr = np.corrcoef(data, rowvar=False)"
   ]
  },
  {
   "cell_type": "markdown",
   "id": "8088673d",
   "metadata": {},
   "source": [
    "## 4.2 Choose a predictor"
   ]
  },
  {
   "cell_type": "markdown",
   "id": "1fc618ff",
   "metadata": {},
   "source": [
    "### Task 4.2.1 Visualise correlation matrix\n",
    "We did some quick `numpy` magic to concatenate the target values to our feature matrix and then created a correlation matrix which contains the correlation coefficients between all features.\n",
    "\n",
    "Now, we need to plot those coefficients in a way that lets us decide which is a good predictor for our target RESP.\n",
    "\n",
    "Try to remember how you plotted 2D matrices in Task 1."
   ]
  },
  {
   "cell_type": "code",
   "execution_count": null,
   "id": "33e7abea",
   "metadata": {},
   "outputs": [],
   "source": [
    "# Your Code here (Remember how we plotted 2D Matrices?)\n",
    "plt.xticks(np.arange(len(names)), labels=names, rotation=45)\n",
    "plt.yticks(np.arange(len(names)), labels=names)\n",
    "plt.title(\"Correlation of features\")\n",
    "plt.colorbar()\n",
    "plt.show()"
   ]
  },
  {
   "cell_type": "markdown",
   "id": "985a4529",
   "metadata": {},
   "source": [
    "### Task 4.2.2 Choose a predicting feature\n",
    "Now that we can easily grasp the correlations between the variables,\n",
    "we should choose a predicting feature that has a high correlation with our target feature RESP (dependent variable).\n",
    "\n",
    "Choose a predictor (independent variable) and isolate the feature in the variable _x_."
   ]
  },
  {
   "cell_type": "code",
   "execution_count": null,
   "id": "cb41b637",
   "metadata": {},
   "outputs": [],
   "source": [
    "x = # Your Code here\n",
    "resp = diabetes[\"target\"] "
   ]
  },
  {
   "cell_type": "markdown",
   "id": "c2fc7911",
   "metadata": {},
   "source": [
    "### Task 4.2.3 Plotting variables\n",
    "Now that we have decided on a feature, we can plot our predictor against our target.\n",
    "A scatter plot would be a good fit for this task.\n",
    "\n",
    "**Don't forget all the information about plotting from task 1!**"
   ]
  },
  {
   "cell_type": "code",
   "execution_count": null,
   "id": "7eff4b75",
   "metadata": {},
   "outputs": [],
   "source": [
    "# Your Code here"
   ]
  },
  {
   "cell_type": "markdown",
   "id": "bf1dabaf",
   "metadata": {},
   "source": [
    "## 4.3 Set up the function"
   ]
  },
  {
   "cell_type": "markdown",
   "id": "05629aa9",
   "metadata": {},
   "source": [
    "From the lecture, we know that the function for a linear regression is as follows:\n",
    "\n",
    "$$ \\huge y = \\beta_0 + \\beta_1 x + \\epsilon $$\n",
    "\n",
    "$y$ is the target or dependent variable\n",
    "\n",
    "$\\beta_0$ is the $y$-intercept\n",
    "\n",
    "$\\beta_1$ is the slope\n",
    "\n",
    "$x$ is the predicting or independent variable\n",
    "\n",
    "$\\epsilon$ is the residual error"
   ]
  },
  {
   "cell_type": "markdown",
   "id": "b5483145",
   "metadata": {},
   "source": [
    "We need to calculate $\\beta_0$ and $\\beta_1$ while minimizing $\\epsilon$.\n"
   ]
  },
  {
   "cell_type": "markdown",
   "id": "17fef429",
   "metadata": {},
   "source": [
    "### Task 4.3.1 Calculate $\\beta_1$\n",
    "From the lecture, we also know that we can calculate $\\beta_1$ with the following equation when minimising $\\epsilon$:\n",
    "\n",
    "$$ \\beta_1 = \\frac{\\sum_{data}(x-\\bar{x})(y-\\bar{y})}{\\sum_{data}(x-\\bar{x})^2} $$\n",
    "\n",
    "$\\bar{y}$ and $\\bar{x}$ are the mean values of the variables $y$ and $x$, respectively.\n",
    "\n",
    "Calculate $\\beta_1$ and save the result in the variable _beta_one_."
   ]
  },
  {
   "cell_type": "code",
   "execution_count": null,
   "id": "3c907cb9",
   "metadata": {},
   "outputs": [],
   "source": [
    "beta_one = # Your Code here"
   ]
  },
  {
   "cell_type": "markdown",
   "id": "4e9b3e31",
   "metadata": {},
   "source": [
    "### Task 4.3.2 Calculate $\\beta_0$\n",
    "From the lecture, we also know that we can calculate $\\beta_0$ with the following equation when minimising $\\epsilon$:\n",
    "\n",
    "$$ \\beta_0 = \\bar{y} - \\beta_1 \\bar{x}. $$\n",
    "\n",
    "Again, $\\bar{y}$ and $\\bar{x}$ are the mean values of the variables y and x, respectively.\n",
    "\n",
    "Calculate $\\beta_0$ and save the result in the variable _beta_zero_."
   ]
  },
  {
   "cell_type": "code",
   "execution_count": null,
   "id": "90af6eb1",
   "metadata": {},
   "outputs": [],
   "source": [
    "beta_zero = # Your Code here"
   ]
  },
  {
   "cell_type": "markdown",
   "id": "c405745b",
   "metadata": {},
   "source": [
    "### Task 4.3.3 Write the regression function\n",
    "Now create python function that takes the independent variable as an input and returns the value of the dependent variable."
   ]
  },
  {
   "cell_type": "code",
   "execution_count": null,
   "id": "32227b99",
   "metadata": {},
   "outputs": [],
   "source": [
    "def regress(x):\n",
    "    # Your Code here\n",
    "    return y"
   ]
  },
  {
   "cell_type": "markdown",
   "id": "e5df0ba0",
   "metadata": {},
   "source": [
    "## 4.4 Visualize the regression\n",
    "\n",
    "### 4.4.1 Plot the regression\n",
    "\n",
    "Recreate the plot from task 4.2.3 but this time include the regression function.\n",
    "\n",
    "_Hint_: In order to plot the regression function, you might need to supply it with artificial datapoints. The numpy function `np.arange` can be of help here."
   ]
  },
  {
   "cell_type": "code",
   "execution_count": null,
   "id": "29085c84",
   "metadata": {},
   "outputs": [],
   "source": [
    "# Your Code here"
   ]
  }
 ],
 "metadata": {
  "kernelspec": {
   "display_name": "Python 3 (ipykernel)",
   "language": "python",
   "name": "python3"
  },
  "language_info": {
   "codemirror_mode": {
    "name": "ipython",
    "version": 3
   },
   "file_extension": ".py",
   "mimetype": "text/x-python",
   "name": "python",
   "nbconvert_exporter": "python",
   "pygments_lexer": "ipython3",
   "version": "3.9.6"
  }
 },
 "nbformat": 4,
 "nbformat_minor": 5
}
