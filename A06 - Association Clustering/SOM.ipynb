{
 "cells": [
  {
   "cell_type": "markdown",
   "id": "2bd11135",
   "metadata": {},
   "source": [
    "# 3 The Self-organizing Map (SOM)"
   ]
  },
  {
   "cell_type": "markdown",
   "id": "92c5aa16",
   "metadata": {
    "pycharm": {
     "name": "#%% md\n"
    }
   },
   "source": [
    "In this task, we will implement some python functions for the self-organizing map (SOM), or self-organizing feature map, algorithm. The SOM is an artificial neural network used for clustering and dimensionality reduction. Its goal is to find a high-quality topological respresentation of the input space (also called _map_)."
   ]
  },
  {
   "cell_type": "code",
   "execution_count": 24,
   "id": "aa06d8b1",
   "metadata": {
    "jupyter": {
     "outputs_hidden": false
    },
    "pycharm": {
     "name": "#%%\n"
    }
   },
   "outputs": [],
   "source": [
    "# Load libraries\n",
    "import numpy as np\n",
    "import matplotlib.pyplot as plt\n",
    "from sklearn import datasets\n",
    "from sklearn.preprocessing import StandardScaler\n",
    "from scipy.spatial.distance import cdist, euclidean\n",
    "\n",
    "\n",
    "np.random.seed(42)"
   ]
  },
  {
   "cell_type": "markdown",
   "id": "0f2eea48",
   "metadata": {},
   "source": [
    "## 3.1 The Dataset\n",
    "First, we will load the [Iris Dataset](https://scikit-learn.org/stable/auto_examples/datasets/plot_iris_dataset.html) that we will use for training our SOM. We will also apply the [StandardScaler](https://scikit-learn.org/stable/modules/generated/sklearn.preprocessing.StandardScaler.html) that scales all features to zero mean and unit variance."
   ]
  },
  {
   "cell_type": "code",
   "execution_count": 25,
   "id": "a74ca6f1",
   "metadata": {},
   "outputs": [],
   "source": [
    "iris = datasets.load_iris()\n",
    "iris_data = iris.data"
   ]
  },
  {
   "cell_type": "code",
   "execution_count": 26,
   "id": "3b6c0947",
   "metadata": {},
   "outputs": [
    {
     "name": "stdout",
     "output_type": "stream",
     "text": [
      ".. _iris_dataset:\n",
      "\n",
      "Iris plants dataset\n",
      "--------------------\n",
      "\n",
      "**Data Set Characteristics:**\n",
      "\n",
      "    :Number of Instances: 150 (50 in each of three classes)\n",
      "    :Number of Attributes: 4 numeric, predictive attributes and the class\n",
      "    :Attribute Information:\n",
      "        - sepal length in cm\n",
      "        - sepal width in cm\n",
      "        - petal length in cm\n",
      "        - petal width in cm\n",
      "        - class:\n",
      "                - Iris-Setosa\n",
      "                - Iris-Versicolour\n",
      "                - Iris-Virginica\n",
      "                \n",
      "    :Summary Statistics:\n",
      "\n",
      "    ============== ==== ==== ======= ===== ====================\n",
      "                    Min  Max   Mean    SD   Class Correlation\n",
      "    ============== ==== ==== ======= ===== ====================\n",
      "    sepal length:   4.3  7.9   5.84   0.83    0.7826\n",
      "    sepal width:    2.0  4.4   3.05   0.43   -0.4194\n",
      "    petal length:   1.0  6.9   3.76   1.76    0.9490  (high!)\n",
      "    petal width:    0.1  2.5   1.20   0.76    0.9565  (high!)\n",
      "    ============== ==== ==== ======= ===== ====================\n",
      "\n",
      "    :Missing Attribute Values: None\n",
      "    :Class Distribution: 33.3% for each of 3 classes.\n",
      "    :Creator: R.A. Fisher\n",
      "    :Donor: Michael Marshall (MARSHALL%PLU@io.arc.nasa.gov)\n",
      "    :Date: July, 1988\n",
      "\n",
      "The famous Iris database, first used by Sir R.A. Fisher. The dataset is taken\n",
      "from Fisher's paper. Note that it's the same as in R, but not as in the UCI\n",
      "Machine Learning Repository, which has two wrong data points.\n",
      "\n",
      "This is perhaps the best known database to be found in the\n",
      "pattern recognition literature.  Fisher's paper is a classic in the field and\n",
      "is referenced frequently to this day.  (See Duda & Hart, for example.)  The\n",
      "data set contains 3 classes of 50 instances each, where each class refers to a\n",
      "type of iris plant.  One class is linearly separable from the other 2; the\n",
      "latter are NOT linearly separable from each other.\n",
      "\n",
      ".. topic:: References\n",
      "\n",
      "   - Fisher, R.A. \"The use of multiple measurements in taxonomic problems\"\n",
      "     Annual Eugenics, 7, Part II, 179-188 (1936); also in \"Contributions to\n",
      "     Mathematical Statistics\" (John Wiley, NY, 1950).\n",
      "   - Duda, R.O., & Hart, P.E. (1973) Pattern Classification and Scene Analysis.\n",
      "     (Q327.D83) John Wiley & Sons.  ISBN 0-471-22361-1.  See page 218.\n",
      "   - Dasarathy, B.V. (1980) \"Nosing Around the Neighborhood: A New System\n",
      "     Structure and Classification Rule for Recognition in Partially Exposed\n",
      "     Environments\".  IEEE Transactions on Pattern Analysis and Machine\n",
      "     Intelligence, Vol. PAMI-2, No. 1, 67-71.\n",
      "   - Gates, G.W. (1972) \"The Reduced Nearest Neighbor Rule\".  IEEE Transactions\n",
      "     on Information Theory, May 1972, 431-433.\n",
      "   - See also: 1988 MLC Proceedings, 54-64.  Cheeseman et al\"s AUTOCLASS II\n",
      "     conceptual clustering system finds 3 classes in the data.\n",
      "   - Many, many more ...\n"
     ]
    }
   ],
   "source": [
    "print(iris.DESCR)"
   ]
  },
  {
   "cell_type": "markdown",
   "id": "fb10debe",
   "metadata": {},
   "source": [
    "## 3.2 Data Preprocessing\n",
    "Let's instantiate a StandardScaler object and preprocess the data accordingly."
   ]
  },
  {
   "cell_type": "code",
   "execution_count": 27,
   "id": "e438d413",
   "metadata": {},
   "outputs": [],
   "source": [
    "scaler = StandardScaler()\n",
    "iris_scaled = scaler.fit_transform(iris_data)"
   ]
  },
  {
   "cell_type": "markdown",
   "id": "988f9ab7",
   "metadata": {},
   "source": [
    "So, how does a sample look like when the scaling operation is applied?"
   ]
  },
  {
   "cell_type": "code",
   "execution_count": 28,
   "id": "eb51354e",
   "metadata": {},
   "outputs": [
    {
     "data": {
      "text/plain": [
       "array([5.1, 3.5, 1.4, 0.2])"
      ]
     },
     "execution_count": 28,
     "metadata": {},
     "output_type": "execute_result"
    }
   ],
   "source": [
    "iris_data[0]"
   ]
  },
  {
   "cell_type": "code",
   "execution_count": 29,
   "id": "d62a8917",
   "metadata": {},
   "outputs": [
    {
     "data": {
      "text/plain": [
       "array([-0.90068117,  1.01900435, -1.34022653, -1.3154443 ])"
      ]
     },
     "execution_count": 29,
     "metadata": {},
     "output_type": "execute_result"
    }
   ],
   "source": [
    "iris_scaled[0]"
   ]
  },
  {
   "cell_type": "markdown",
   "id": "d13b3416",
   "metadata": {},
   "source": [
    "## 3.3 The Self-organizing Map Object\n",
    "Now it's time to take a step further and get to know object-oriented Python programming. What you can see below is that we define our self-organizing map as a Python class that has the attributes \n",
    "- _size_ (number of nodes in the network), \n",
    "- _sigma_ (neighborhood learning coefficient whose value is dependent on the current iteration), \n",
    "- _nodes_ (list of all nodes in the network), and \n",
    "- _learning rate_ (determines how much other nodes are pulled towards the input).\n",
    "\n",
    "Also, the SOM class consists of several functions that are needed for training. Your job will be to implement the following four functions:\n",
    "\n",
    "### Task 3.3.1\n",
    "`neighborhood_function(self, v, n_b)` (takes the indices of the current network node $v$ and the winning node $n_b$, outputs the Gaussian neighboorhood pull factor according to $h(v, n_b) = - exp \\left( -\\frac{d_{v, n_b}^2}{2 \\cdot \\sigma^2} \\right)$, where $d_{v, n_b}$ is the Euclidean distance between the $v$-th and $n_b$-th network node)\n",
    "\n",
    "### Task 3.3.2 \n",
    "`find_winner(self, x)` (takes the current input sample and returns the index $n_b$ of the closest node in the network)\n",
    "\n",
    "### Task 3.3.3\n",
    "`update_network(self, x, n_b)` (takes the current input sample and the index of the winner and updates all network nodes based on the input)\n",
    "\n",
    "### Task 3.3.4\n",
    "`plot(self)` (scatter plot of first two dimensions of the nodes in the network)"
   ]
  },
  {
   "cell_type": "code",
   "execution_count": 30,
   "id": "64ba8818",
   "metadata": {},
   "outputs": [],
   "source": [
    "class SOM:\n",
    "    def __init__(self, rows, columns, dim, lr):\n",
    "        self.size = rows * columns\n",
    "        self.sigma = 1\n",
    "        self.nodes = np.random.normal(size=(rows, columns, dim))\n",
    "\n",
    "        # learning rate\n",
    "        self.lr = lr\n",
    "\n",
    "    def neighborhood_function(self, v, n_b):\n",
    "\n",
    "        # calculate 2d indices from 1d index for v and n_b\n",
    "        v_x, v_y = np.unravel_index(v, self.nodes.shape[:2])\n",
    "        n_x, n_y = np.unravel_index(n_b, self.nodes.shape[:2])\n",
    "\n",
    "        dist = np.sqrt((v_x - n_b_x) ** 2 + (v_y - n_b_y) ** 2)\n",
    "        h = -np.exp(-(dist**2) / 2 * self.sigma**2)\n",
    "\n",
    "        return h\n",
    "\n",
    "    def find_winner(self, x):\n",
    "\n",
    "        distSq = (np.square(self.nodes - x)).sum(axis=2)\n",
    "        return np.unravel_index(np.argmin(distSq, axis=None), distSq.shape)\n",
    "\n",
    "    def update_network(self, x, n_b):\n",
    "        g, h = n_b\n",
    "\n",
    "        # Change all cells in a small neighborhood of BMU\n",
    "        for i in range(g, min(self.nodes.shape[0], g)):\n",
    "            for j in range(h, min(self.nodes.shape[1], h)):\n",
    "                self.nodes[i, j, :] += (\n",
    "                    lr\n",
    "                    * neighborhood_function((i, j), (g, h))\n",
    "                    * (x - self.nodes[i, j, :])\n",
    "                )\n",
    "\n",
    "        return\n",
    "\n",
    "    def plot(self):\n",
    "        # scatter plot of the first 2 dimensions\n",
    "        plt.scatter(self.nodes[:, :, 0], self.nodes[:, :, 1])\n",
    "        return"
   ]
  },
  {
   "cell_type": "markdown",
   "id": "d862f5cf",
   "metadata": {},
   "source": [
    "## 3.4 Test SOM Algorithm\n",
    "With the code given below, you can test your implemented functions with different learning rates / neighboorhood size adjustments. The steps below are the same ones as described in Lecture 20 (_Self-organizing Networks_). "
   ]
  },
  {
   "cell_type": "code",
   "execution_count": 31,
   "id": "0a78e224",
   "metadata": {},
   "outputs": [
    {
     "data": {
      "image/png": "[encoded data removed]",
      "text/plain": [
       "<Figure size 432x288 with 1 Axes>"
      ]
     },
     "metadata": {
      "needs_background": "light"
     },
     "output_type": "display_data"
    }
   ],
   "source": [
    "# Step 1: Initialize Network (10 x 10 nodes, learning rate 0.5)\n",
    "som = SOM(10, 10, iris_data.shape[1], 0.5)\n",
    "\n",
    "# Step 2: Get Input\n",
    "for x in iris_scaled:\n",
    "\n",
    "    # Step 3: Find Winner\n",
    "    n_b = som.find_winner(x)\n",
    "\n",
    "    # Step 4: Update winner and neighborhood\n",
    "    som.update_network(x, n_b)\n",
    "\n",
    "    # Step 5: Adjust neighborhood size\n",
    "    som.sigma /= 1.1\n",
    "\n",
    "# Step 6: Plot network\n",
    "som.plot()"
   ]
  },
  {
   "cell_type": "markdown",
   "id": "3885bd0c",
   "metadata": {},
   "source": [
    "_Hint 1: As this is an unsupervised learning method, you don't have to worry about accuracies etc., as long as your code works as described in the SOM lecture slides._\n",
    "\n",
    "_Hint 2: When plotting the network, don't forget to add labels and title to the plot!_\n",
    "\n",
    "Good luck with this task!"
   ]
  }
 ],
 "metadata": {
  "kernelspec": {
   "display_name": "Python 2.7.17 64-bit",
   "language": "python",
   "name": "python3"
  },
  "language_info": {
   "codemirror_mode": {
    "name": "ipython",
    "version": 3
   },
   "file_extension": ".py",
   "mimetype": "text/x-python",
   "name": "python",
   "nbconvert_exporter": "python",
   "pygments_lexer": "ipython3",
   "version": "3.10.5"
  },
  "vscode": {
   "interpreter": {
    "hash": "767d51c1340bd893661ea55ea3124f6de3c7a262a8b4abca0554b478b1e2ff90"
   }
  }
 },
 "nbformat": 4,
 "nbformat_minor": 5
}
