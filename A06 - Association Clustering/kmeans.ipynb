{
 "cells": [
  {
   "cell_type": "markdown",
   "id": "c4e218c5",
   "metadata": {},
   "source": [
    "# 2 _k_-Means Clustering\n"
   ]
  },
  {
   "cell_type": "markdown",
   "id": "6f77f2ae",
   "metadata": {},
   "source": [
    "In this notebook, we will explore and cluster data with the _k_-Means algorithm.\n",
    "\n",
    "In _k_-Means, a dataset is partitioned in _k_ clusters while trying to minimize the sum of squared distances of each point to its cluster center. One of the characteristics of this algorithm is that the number of clusters _k_ is predefined, i.e., the choice is left to the machine learning practitioner.\n",
    "\n",
    "You can find an overview of the algorithm in the lecture slides.\n",
    "\n",
    "As usual, we start with importing the packages:\n"
   ]
  },
  {
   "cell_type": "code",
   "execution_count": 2,
   "id": "e7814ce0",
   "metadata": {},
   "outputs": [],
   "source": [
    "import numpy as np\n",
    "from sklearn.datasets import load_iris\n",
    "from sklearn.decomposition import PCA\n",
    "import matplotlib.pyplot as plt\n",
    "\n",
    "np.random.seed(1337)  # seeds help with reproducible results\n",
    "%matplotlib inline"
   ]
  },
  {
   "cell_type": "markdown",
   "id": "0bbb3b32",
   "metadata": {},
   "source": [
    "## 2.1 The Dataset\n",
    "\n",
    "We are going to use a familiar dataset, the [Iris Dataset](https://scikit-learn.org/stable/auto_examples/datasets/plot_iris_dataset.html).\n",
    "The dataset contains four features: sepal length, sepal width, petal length and petal width. We want to be able to look at our clustering results later. Four-dimensional data are hard to visualize for human brains. Thankfully, we know a handy dimensionality reduction technique, i.e., Principal Component Analysis (PCA).\n"
   ]
  },
  {
   "cell_type": "markdown",
   "id": "42340ff3",
   "metadata": {},
   "source": [
    "### Task 2.1.1 Transform the Data\n",
    "\n",
    "1.  Load the Iris Dataset.\n",
    "2.  Use the PCA class from sklearn to project the dataset into a two-dimensional space.\n"
   ]
  },
  {
   "cell_type": "code",
   "execution_count": 3,
   "id": "23bb987b",
   "metadata": {},
   "outputs": [],
   "source": [
    "# load iris dataset\n",
    "iris = load_iris()\n",
    "\n",
    "pca = PCA(n_components=2)\n",
    "pca.fit(iris.data)\n",
    "data = pca.transform(iris.data)"
   ]
  },
  {
   "cell_type": "code",
   "execution_count": 4,
   "id": "78d44d6d",
   "metadata": {},
   "outputs": [
    {
     "data": {
      "text/plain": [
       "<matplotlib.legend.Legend at 0x7f417ca16410>"
      ]
     },
     "execution_count": 4,
     "metadata": {},
     "output_type": "execute_result"
    },
    {
     "data": {
      "image/png": "[encoded data removed]",
      "text/plain": [
       "<Figure size 432x288 with 1 Axes>"
      ]
     },
     "metadata": {
      "needs_background": "light"
     },
     "output_type": "display_data"
    }
   ],
   "source": [
    "# just a quick visualization of the data to see the PCA results\n",
    "\n",
    "fig, ax = plt.subplots()\n",
    "\n",
    "for g in np.unique(iris.target):\n",
    "    ax.scatter(\n",
    "        data[iris.target == g, 0], data[iris.target == g, 1], label=iris.target_names[g]\n",
    "    )\n",
    "\n",
    "ax.legend()"
   ]
  },
  {
   "cell_type": "markdown",
   "id": "ef2e3160",
   "metadata": {},
   "source": [
    "## 2.2 Initialization\n",
    "\n",
    "Before we start with the learning phase, we need to set up a few initial parameters.\n"
   ]
  },
  {
   "cell_type": "markdown",
   "id": "767d2b59",
   "metadata": {},
   "source": [
    "### Task 2.2.1 The _k_-Question\n",
    "\n",
    "As mentioned, the choice of the right _k_ is an important decision for the success of the algorithm. The number of clusters you will retrieve in the end depends on _k_. Too many or too few clusters might give you suboptimal results.\n",
    "\n",
    "Fortunately, we know that the Iris Dataset is labeled. Those labels already partition the data. Therefore, let's choose _k_ according to the number of labels.\n"
   ]
  },
  {
   "cell_type": "code",
   "execution_count": 5,
   "id": "9cd4e271",
   "metadata": {},
   "outputs": [],
   "source": [
    "k = len(iris.target_names)"
   ]
  },
  {
   "cell_type": "markdown",
   "id": "031ef7a4",
   "metadata": {},
   "source": [
    "### Task 2.2.2 The First Cluster Centers\n",
    "\n",
    "You have to start somewhere! Theoretically, you could choose arbitrary points in the input space. Unfortunately, if we choose those randomly, the algorithm might take a while to converge.\n",
    "\n",
    "In order to speed things up a little, let's choose different random datapoints from the dataset as the initial cluster centers.\n",
    "\n",
    "_Hint: `numpy.random` has a few good functions for that purpose._\n"
   ]
  },
  {
   "cell_type": "code",
   "execution_count": 6,
   "id": "a87a2505",
   "metadata": {},
   "outputs": [],
   "source": [
    "c_is = np.random.choice(iris.target, size=k, replace=False)"
   ]
  },
  {
   "cell_type": "markdown",
   "id": "a2efd7ba",
   "metadata": {},
   "source": [
    "## 2.3 The Algorithm\n",
    "\n",
    "Now the algorithm goes as follows:\n",
    "\n",
    "    - obtain the distance of each point to each cluster center\n",
    "    - assign that point to the nearest cluster\n",
    "    - move position of centre to mean of points in cluster\n",
    "\n",
    "Thus, we need a few calculation steps. Note that the use of libraries outside the Python Standard Library and `numpy` is not allowed in the following tasks, unless stated otherwise.\n"
   ]
  },
  {
   "cell_type": "markdown",
   "id": "4e8917ab",
   "metadata": {},
   "source": [
    "### Task 2.3.1 Compute the Distances\n",
    "\n",
    "Complete the function `distances(...)` that takes a list/array of datapoints and a list/array of cluster centers and returns the distance of each data point to each cluster center.\n"
   ]
  },
  {
   "cell_type": "code",
   "execution_count": 7,
   "id": "10274ea2",
   "metadata": {},
   "outputs": [],
   "source": [
    "def distances(data, centroids):\n",
    "    return [[np.sqrt(np.sum((c - p) ** 2)) for c in centroids] for p in data]"
   ]
  },
  {
   "cell_type": "markdown",
   "id": "62fc79ae",
   "metadata": {},
   "source": [
    "### Task 2.3.2 Assign Data Points to Clusters\n",
    "\n",
    "Now that we can compute the distances to the cluster centres, we need to assign the points to their respective clusters.\n",
    "\n",
    "Complete the function `compute_assignments(...)` that takes a list/array of data points and a list/array of cluster centers and returns a list of assignments of each data point to the nearest cluster center.\n",
    "\n",
    "_Hint: Make ample use of the `distances(...)` function you just wrote._\n"
   ]
  },
  {
   "cell_type": "code",
   "execution_count": 8,
   "id": "da601a49",
   "metadata": {},
   "outputs": [],
   "source": [
    "def compute_assignments(data, centroids):\n",
    "    return np.argmin(distances(data, centroids), axis=1)"
   ]
  },
  {
   "cell_type": "code",
   "execution_count": 9,
   "id": "54e074bf",
   "metadata": {},
   "outputs": [
    {
     "data": {
      "text/plain": [
       "array([1, 1, 1, 1, 1, 1, 1, 1, 1, 1, 1, 1, 1, 1, 1, 1, 1, 1, 1, 1, 1, 1,\n",
       "       1, 1, 1, 1, 1, 1, 1, 1, 1, 1, 1, 1, 1, 1, 1, 1, 1, 1, 1, 1, 1, 1,\n",
       "       1, 1, 1, 1, 1, 1, 0, 0, 0, 1, 0, 1, 0, 1, 0, 1, 1, 1, 1, 1, 1, 0,\n",
       "       1, 1, 1, 1, 0, 1, 1, 1, 1, 0, 0, 0, 1, 1, 1, 1, 1, 1, 1, 0, 0, 1,\n",
       "       1, 1, 1, 1, 1, 1, 1, 1, 1, 1, 1, 1, 0, 1, 0, 0, 0, 2, 1, 2, 0, 2,\n",
       "       0, 0, 0, 1, 0, 0, 0, 2, 2, 1, 0, 1, 2, 0, 0, 2, 0, 0, 0, 0, 2, 2,\n",
       "       0, 0, 0, 2, 0, 0, 0, 0, 0, 0, 1, 0, 0, 0, 0, 0, 0, 0])"
      ]
     },
     "execution_count": 9,
     "metadata": {},
     "output_type": "execute_result"
    }
   ],
   "source": [
    "compute_assignments(data, c_is)"
   ]
  },
  {
   "cell_type": "markdown",
   "id": "d31f52ff",
   "metadata": {},
   "source": [
    "### Task 2.3.3 Update Cluster Centers\n",
    "\n",
    "Now that we have our clusters, we can compute new centers that better represent the cluster.\n",
    "\n",
    "Complete the function `update_centers()` that takes takes a list/array of data points and a list/array of assignments and returns the new cluster centers.\n"
   ]
  },
  {
   "cell_type": "code",
   "execution_count": 10,
   "id": "b5193a20",
   "metadata": {},
   "outputs": [],
   "source": [
    "def update_centers(data, assignments):\n",
    "    return [np.mean(data[assignments == i]) for i in range(k)]\n",
    "    # your code here"
   ]
  },
  {
   "cell_type": "markdown",
   "id": "4e6f42cb",
   "metadata": {},
   "source": [
    "The most important parts are done! Theoretically, we only need to run the algorithm repeatedly until the cluster centers do not change anymore.\n"
   ]
  },
  {
   "cell_type": "markdown",
   "id": "8094eeec",
   "metadata": {},
   "source": [
    "## 2.4 Cluster Quality\n",
    "\n",
    "As we have seen in previous assignments, blindly running an algorithm without evaluating the quality of its results is not always the best idea.\n",
    "\n",
    "Hence, we will use the Davies Bouldin (DB) Index to evaluate the quality of our clusters (see also the theory about the DB index in the lecture).\n",
    "\n",
    "### Task 2.4.1 The Davies-Bouldin Index\n",
    "\n",
    "Write a function `db_index(...)` that takes a list/array of data points, a list/array of cluster centers, and a list/array of assignments and returns the Davies-Bouldin Index.\n",
    "\n",
    "You will need to:\n",
    "\n",
    "    - calculate the radii of the clusters, R\n",
    "    - calculate the inter class distance between the clusters\n",
    "    - calculate the badness of separation between the clusters, D\n",
    "\n",
    "Lastly, you need to take the average over the relevant D-values of each cluster.\n",
    "\n",
    "All necessary formulas can be found in Lecture 19 (_Basic Clustering_).\n"
   ]
  },
  {
   "cell_type": "code",
   "execution_count": 11,
   "id": "8b4c4c08",
   "metadata": {},
   "outputs": [],
   "source": [
    "def db_index(data, centroids, assignments):\n",
    "    radii = [\n",
    "        np.sqrt(\n",
    "            np.sum([(p - centroids[c_idx]) ** 2 for p in data[assignments == c_idx]])\n",
    "            / len(data[assignments == c_idx])\n",
    "        )\n",
    "        for c_idx in range(k)\n",
    "    ]\n",
    "\n",
    "    distances_worst = [\n",
    "        np.max(\n",
    "            [\n",
    "                (radii[c1_idx] + radii[c2_idx])\n",
    "                / np.abs(centroids[c1_idx] - centroids[c2_idx])\n",
    "                for c2_idx in range(k)\n",
    "                if c1_idx != c2_idx\n",
    "            ]\n",
    "        )\n",
    "        for c1_idx in range(k)\n",
    "    ]\n",
    "\n",
    "    return np.sum(distances_worst) / k"
   ]
  },
  {
   "cell_type": "code",
   "execution_count": 12,
   "id": "50a7fdf6",
   "metadata": {},
   "outputs": [
    {
     "data": {
      "text/plain": [
       "3.3009105413453965"
      ]
     },
     "execution_count": 12,
     "metadata": {},
     "output_type": "execute_result"
    }
   ],
   "source": [
    "db_index(data, c_is, compute_assignments(data, c_is))"
   ]
  },
  {
   "cell_type": "markdown",
   "id": "763d1f6e",
   "metadata": {},
   "source": [
    "## 2.5 Learning Phase\n"
   ]
  },
  {
   "cell_type": "markdown",
   "id": "13b1f168",
   "metadata": {},
   "source": [
    "### Task 2.5.1 Iterative Clustering\n",
    "\n",
    "Finally, we have all the ingredients in order to cluster our data. Remember, we already initialized the first cluster centers.\n",
    "\n",
    "Therefore, for 20 iterations, you will need to:\n",
    "\n",
    "    - compute the cluster assignments\n",
    "    - compute the new cluster centres according to the assignments\n",
    "    - compute the DB index for the current assignments and cluster centers\n",
    "\n",
    "Do not forget to log relevant data for each iteration:\n",
    "\n",
    "    - the cluster centers\n",
    "    - the cluster assignments\n",
    "    - the DB-Index\n"
   ]
  },
  {
   "cell_type": "code",
   "execution_count": 13,
   "id": "8e24e72d",
   "metadata": {},
   "outputs": [],
   "source": [
    "logs = {\n",
    "    \"centers\": [c_is],\n",
    "    \"assignemnts\": [compute_assignments(data, c_is)],\n",
    "    \"loss\": [db_index(data, c_is, compute_assignments(data, c_is))],\n",
    "}\n",
    "iterations = 20\n",
    "\n",
    "for _ in range(iterations):\n",
    "    assignemnts = compute_assignments(data, c_is)\n",
    "    c_is = update_centers(data, assignemnts)\n",
    "\n",
    "    logs[\"centers\"].append(c_is)\n",
    "    logs[\"assignemnts\"].append(assignemnts)\n",
    "    logs[\"loss\"].append(db_index(data, c_is, compute_assignments(data, c_is)))"
   ]
  },
  {
   "cell_type": "markdown",
   "id": "4a5ff78d",
   "metadata": {},
   "source": [
    "## 2.6 Evaluation\n"
   ]
  },
  {
   "cell_type": "markdown",
   "id": "556c9367",
   "metadata": {},
   "source": [
    "### Task 2.6.1 Plotting the DB-Index\n",
    "\n",
    "Plot the DB Index over the iterations. Don't forget to add title, axis ticks, and axis labels to the plot!\n"
   ]
  },
  {
   "cell_type": "code",
   "execution_count": 14,
   "id": "23008094",
   "metadata": {},
   "outputs": [
    {
     "data": {
      "image/png": "[encoded data removed]",
      "text/plain": [
       "<Figure size 432x288 with 1 Axes>"
      ]
     },
     "metadata": {
      "needs_background": "light"
     },
     "output_type": "display_data"
    }
   ],
   "source": [
    "plt.plot(logs[\"loss\"])\n",
    "plt.xlabel(\"Iterations\")\n",
    "plt.ylabel(\"DB Index\")\n",
    "plt.xticks(range(iterations + 1))\n",
    "plt.title(\"Cluster performance over iterations\")\n",
    "plt.show()\n",
    "\n",
    "## Comment: These DB index values seem very high, but the results look fine,\n",
    "## and the progression also look fine"
   ]
  },
  {
   "cell_type": "markdown",
   "id": "513bb3a3",
   "metadata": {},
   "source": [
    "### Task 2.6.2 Clustered Data vs. Labeled Data\n",
    "\n",
    "In the beginning, we told our _k_-Means algorithm to separate the data into _k_ clusters after determining _k_ based on the number of cluss labels in the dataset.\n",
    "\n",
    "Create two plots side-by-side (using subplots), where one side is showing the clustered data and the other side is showing the partitions of the labeled data.\n"
   ]
  },
  {
   "cell_type": "code",
   "execution_count": 15,
   "id": "b012a14c",
   "metadata": {},
   "outputs": [
    {
     "data": {
      "image/png": "[encoded data removed]",
      "text/plain": [
       "<Figure size 720x360 with 2 Axes>"
      ]
     },
     "metadata": {
      "needs_background": "light"
     },
     "output_type": "display_data"
    }
   ],
   "source": [
    "# create two subplots side by side\n",
    "fig, (ax1, ax2) = plt.subplots(1, 2)\n",
    "\n",
    "# plot kmeans results\n",
    "\n",
    "assigs = logs[\"assignemnts\"][-1]\n",
    "\n",
    "for g in np.unique(assigs):\n",
    "    ax1.scatter(\n",
    "        data[assigs == g, 0],\n",
    "        data[assigs == g, 1],\n",
    "    )\n",
    "ax1.set_title(\"K-means results\")\n",
    "\n",
    "# plot original\n",
    "\n",
    "for g in np.unique(iris.target):\n",
    "    ax2.scatter(\n",
    "        data[iris.target == g, 0], data[iris.target == g, 1], label=iris.target_names[g]\n",
    "    )\n",
    "\n",
    "ax2.set_title(\"Original data\")\n",
    "ax2.legend()\n",
    "\n",
    "# make subplots square\n",
    "fig.set_size_inches(10, 5)\n",
    "plt.show()"
   ]
  },
  {
   "cell_type": "markdown",
   "id": "182299a3",
   "metadata": {},
   "source": [
    "## 2.7 _k_-Means in the Wild\n",
    "\n",
    "It is quite fun to write the _k_-Means algorithm bottom-up. But, usually, a practitioner would rely on libraries, which have already implemented the algorithm, if possible.\n",
    "_k_-Means is implemented in the `scikit-learn` library, so we are going to use it to cluster somewhat more complex data and visualize the cluster centers.\n"
   ]
  },
  {
   "cell_type": "code",
   "execution_count": 16,
   "id": "8653373f",
   "metadata": {},
   "outputs": [],
   "source": [
    "from sklearn.datasets import load_digits\n",
    "from sklearn.cluster import KMeans"
   ]
  },
  {
   "cell_type": "markdown",
   "id": "23d20cc6",
   "metadata": {},
   "source": [
    "### Task 2.7.1 Digits Data and the _k_-Question\n",
    "\n",
    "Load the [Digits Dataset](https://scikit-learn.org/stable/datasets/toy_dataset.html#digits-dataset) and decide on a reasonable number of cluster centers.\n"
   ]
  },
  {
   "cell_type": "code",
   "execution_count": 17,
   "id": "f6a6aabc",
   "metadata": {},
   "outputs": [],
   "source": [
    "# load digits dataset\n",
    "digits = load_digits()\n",
    "k = 10"
   ]
  },
  {
   "cell_type": "markdown",
   "id": "1dcd07b6",
   "metadata": {},
   "source": [
    "### Task 2.7.2 Run the _k_-Means Algorithm\n",
    "\n",
    "Use the provided _k_-Means object on the digits data and extract the cluster centers.\n"
   ]
  },
  {
   "cell_type": "code",
   "execution_count": 18,
   "id": "9ece7d80",
   "metadata": {},
   "outputs": [],
   "source": [
    "model = KMeans(n_clusters=k)\n",
    "model.fit(digits.data)\n",
    "centers = model.cluster_centers_"
   ]
  },
  {
   "cell_type": "markdown",
   "id": "03cbd617",
   "metadata": {},
   "source": [
    "### 2.7.3 Plot the Cluster Centers\n",
    "\n",
    "Plot all the extracted cluster centers as images.\n"
   ]
  },
  {
   "cell_type": "code",
   "execution_count": 54,
   "id": "4b3f5488",
   "metadata": {},
   "outputs": [
    {
     "data": {
      "image/png": "[encoded data removed]",
      "text/plain": [
       "<Figure size 720x360 with 10 Axes>"
      ]
     },
     "metadata": {},
     "output_type": "display_data"
    }
   ],
   "source": [
    "# make 10 subplots\n",
    "fig, axes = plt.subplots(2, 5)\n",
    "for i, ax in enumerate(axes.flat):\n",
    "    ax.imshow(np.reshape(centers[i], (-1, 8)), cmap=\"gray_r\")\n",
    "    ax.set_xticks([])\n",
    "    ax.set_yticks([])\n",
    "\n",
    "fig.set_size_inches(10, 5)\n",
    "fig.set_tight_layout(True)\n",
    "fig.suptitle(\"K-means results\", fontsize=24)\n",
    "plt.show()"
   ]
  },
  {
   "cell_type": "code",
   "execution_count": null,
   "id": "5ea67fc3",
   "metadata": {},
   "outputs": [],
   "source": []
  }
 ],
 "metadata": {
  "kernelspec": {
   "display_name": "Python 3.10.5 64-bit",
   "language": "python",
   "name": "python3"
  },
  "language_info": {
   "codemirror_mode": {
    "name": "ipython",
    "version": 3
   },
   "file_extension": ".py",
   "mimetype": "text/x-python",
   "name": "python",
   "nbconvert_exporter": "python",
   "pygments_lexer": "ipython3",
   "version": "3.10.5"
  },
  "vscode": {
   "interpreter": {
    "hash": "916dbcbb3f70747c44a77c7bcd40155683ae19c65e1c03b4aa3499c5328201f1"
   }
  }
 },
 "nbformat": 4,
 "nbformat_minor": 5
}
