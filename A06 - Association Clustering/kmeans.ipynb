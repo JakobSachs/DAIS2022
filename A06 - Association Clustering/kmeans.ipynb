{
 "cells": [
  {
   "cell_type": "markdown",
   "id": "c4e218c5",
   "metadata": {},
   "source": [
    "# 2 _k_-Means Clustering"
   ]
  },
  {
   "cell_type": "markdown",
   "id": "6f77f2ae",
   "metadata": {},
   "source": [
    "In this notebook, we will explore and cluster data with the _k_-Means algorithm.\n",
    "\n",
    "In _k_-Means, a dataset is partitioned in _k_ clusters while trying to minimize the sum of squared distances of each point to its cluster center. One of the characteristics of this algorithm is that the number of clusters _k_ is predefined, i.e., the choice is left to the machine learning practitioner.\n",
    "\n",
    "You can find an overview of the algorithm in the lecture slides.\n",
    "\n",
    "As usual, we start with importing the packages:"
   ]
  },
  {
   "cell_type": "code",
   "execution_count": null,
   "id": "e7814ce0",
   "metadata": {},
   "outputs": [],
   "source": [
    "import numpy as np\n",
    "from sklearn.datasets import load_iris\n",
    "from sklearn.decomposition import PCA\n",
    "import matplotlib.pyplot as plt\n",
    "np.random.seed(1337) # seeds help with reproducible results\n",
    "%matplotlib inline"
   ]
  },
  {
   "cell_type": "markdown",
   "id": "0bbb3b32",
   "metadata": {},
   "source": [
    "## 2.1 The Dataset\n",
    "We are going to use a familiar dataset, the [Iris Dataset](https://scikit-learn.org/stable/auto_examples/datasets/plot_iris_dataset.html).\n",
    "The dataset contains four features: sepal length, sepal width, petal length and petal width. We want to be able to look at our clustering results later. Four-dimensional data are hard to visualize for human brains. Thankfully, we know a handy dimensionality reduction technique, i.e., Principal Component Analysis (PCA)."
   ]
  },
  {
   "cell_type": "markdown",
   "id": "42340ff3",
   "metadata": {},
   "source": [
    "### Task 2.1.1 Transform the Data\n",
    " 1. Load the Iris Dataset.\n",
    " 2. Use the PCA class from sklearn to project the dataset into a two-dimensional space."
   ]
  },
  {
   "cell_type": "code",
   "execution_count": null,
   "id": "23bb987b",
   "metadata": {},
   "outputs": [],
   "source": [
    "# your code here"
   ]
  },
  {
   "cell_type": "markdown",
   "id": "ef2e3160",
   "metadata": {},
   "source": [
    "## 2.2 Initialization\n",
    "Before we start with the learning phase, we need to set up a few initial parameters."
   ]
  },
  {
   "cell_type": "markdown",
   "id": "767d2b59",
   "metadata": {},
   "source": [
    "### Task 2.2.1 The _k_-Question\n",
    "As mentioned, the choice of the right _k_ is an important decision for the success of the algorithm. The number of clusters you will retrieve in the end depends on _k_. Too many or too few clusters might give you suboptimal results.\n",
    "\n",
    "Fortunately, we know that the Iris Dataset is labeled. Those labels already partition the data. Therefore, let's choose _k_ according to the number of labels."
   ]
  },
  {
   "cell_type": "code",
   "execution_count": null,
   "id": "9cd4e271",
   "metadata": {},
   "outputs": [],
   "source": [
    "k = # your code here"
   ]
  },
  {
   "cell_type": "markdown",
   "id": "031ef7a4",
   "metadata": {},
   "source": [
    "### Task 2.2.2 The First Cluster Centers\n",
    "You have to start somewhere! Theoretically, you could choose arbitrary points in the input space. Unfortunately, if we choose those randomly, the algorithm might take a while to converge.\n",
    "\n",
    "In order to speed things up a little, let's choose different random datapoints from the dataset as the initial cluster centers.\n",
    "\n",
    "_Hint: `numpy.random` has a few good functions for that purpose._"
   ]
  },
  {
   "cell_type": "code",
   "execution_count": null,
   "id": "a87a2505",
   "metadata": {},
   "outputs": [],
   "source": [
    "# your code here"
   ]
  },
  {
   "cell_type": "markdown",
   "id": "a2efd7ba",
   "metadata": {},
   "source": [
    "## 2.3 The Algorithm\n",
    "Now the algorithm goes as follows:\n",
    "\n",
    "    - obtain the distance of each point to each cluster center\n",
    "    - assign that point to the nearest cluster\n",
    "    - move position of centre to mean of points in cluster\n",
    "    \n",
    "Thus, we need a few calculation steps. Note that the use of libraries outside the Python Standard Library and `numpy` is not allowed in the following tasks, unless stated otherwise."
   ]
  },
  {
   "cell_type": "markdown",
   "id": "4e8917ab",
   "metadata": {},
   "source": [
    "### Task 2.3.1 Compute the Distances\n",
    "Complete the function `distances(...)` that takes a list/array of datapoints and a list/array of cluster centers and returns the distance of each data point to each cluster center."
   ]
  },
  {
   "cell_type": "code",
   "execution_count": null,
   "id": "10274ea2",
   "metadata": {},
   "outputs": [],
   "source": [
    "def distances(data, centroids):\n",
    "    # your code here"
   ]
  },
  {
   "cell_type": "markdown",
   "id": "62fc79ae",
   "metadata": {},
   "source": [
    "### Task 2.3.2 Assign Data Points to Clusters\n",
    "Now that we can compute the distances to the cluster centres, we need to assign the points to their respective clusters.\n",
    "\n",
    "Complete the function `compute_assignments(...)` that takes a list/array of data points and a list/array of cluster centers and returns a list of assignments of each data point to the nearest cluster center.\n",
    "\n",
    "_Hint: Make ample use of the `distances(...)` function you just wrote._"
   ]
  },
  {
   "cell_type": "code",
   "execution_count": null,
   "id": "da601a49",
   "metadata": {},
   "outputs": [],
   "source": [
    "def compute_assignments(data, centroids):\n",
    "    # your code here"
   ]
  },
  {
   "cell_type": "markdown",
   "id": "d31f52ff",
   "metadata": {},
   "source": [
    "### Task 2.3.3 Update Cluster Centers\n",
    "Now that we have our clusters, we can compute new centers that better represent the cluster.\n",
    "\n",
    "Complete the function `update_centers()` that takes takes a list/array of data points and a list/array of assignments and returns the new cluster centers."
   ]
  },
  {
   "cell_type": "code",
   "execution_count": null,
   "id": "b5193a20",
   "metadata": {},
   "outputs": [],
   "source": [
    "def update_centers(data, assignments):\n",
    "    # your code here"
   ]
  },
  {
   "cell_type": "markdown",
   "id": "4e6f42cb",
   "metadata": {},
   "source": [
    "The most important parts are done! Theoretically, we only need to run the algorithm repeatedly until the cluster centers do not change anymore."
   ]
  },
  {
   "cell_type": "markdown",
   "id": "8094eeec",
   "metadata": {},
   "source": [
    "## 2.4 Cluster Quality\n",
    "As we have seen in previous assignments, blindly running an algorithm without evaluating the quality of its results is not always the best idea.\n",
    "\n",
    "Hence, we will use the Davies Bouldin (DB) Index to evaluate the quality of our clusters (see also the theory about the DB index in the lecture).\n",
    "\n",
    "### Task 2.4.1 The Davies-Bouldin Index\n",
    "\n",
    "Write a function `db_index(...)` that takes a list/array of data points, a list/array of cluster centers, and a list/array of assignments and returns the Davies-Bouldin Index.\n",
    "\n",
    "You will need to:\n",
    "    \n",
    "    - calculate the radii of the clusters, R\n",
    "    - calculate the inter class distance between the clusters\n",
    "    - calculate the badness of separation between the clusters, D\n",
    "    \n",
    "Lastly, you need to take the average over the relevant D-values of each cluster.\n",
    "\n",
    "All necessary formulas can be found in Lecture 19 (_Basic Clustering_)."
   ]
  },
  {
   "cell_type": "code",
   "execution_count": null,
   "id": "8b4c4c08",
   "metadata": {},
   "outputs": [],
   "source": [
    "def db_index(data, centroids, assignments):\n",
    "    # your code here"
   ]
  },
  {
   "cell_type": "markdown",
   "id": "763d1f6e",
   "metadata": {},
   "source": [
    "## 2.5 Learning Phase"
   ]
  },
  {
   "cell_type": "markdown",
   "id": "13b1f168",
   "metadata": {},
   "source": [
    "### Task 2.5.1 Iterative Clustering\n",
    "Finally, we have all the ingredients in order to cluster our data. Remember, we already initialized the first cluster centers.\n",
    "\n",
    "Therefore, for 20 iterations, you will need to:\n",
    "\n",
    "    - compute the cluster assignments\n",
    "    - compute the new cluster centres according to the assignments\n",
    "    - compute the DB index for the current assignments and cluster centers\n",
    "    \n",
    "Do not forget to log relevant data for each iteration:\n",
    "\n",
    "    - the cluster centers\n",
    "    - the cluster assignments\n",
    "    - the DB-Index"
   ]
  },
  {
   "cell_type": "code",
   "execution_count": null,
   "id": "8e24e72d",
   "metadata": {},
   "outputs": [],
   "source": [
    "# your code here"
   ]
  },
  {
   "cell_type": "markdown",
   "id": "4a5ff78d",
   "metadata": {},
   "source": [
    "## 2.6 Evaluation"
   ]
  },
  {
   "cell_type": "markdown",
   "id": "556c9367",
   "metadata": {},
   "source": [
    "### Task 2.6.1 Plotting the DB-Index\n",
    "Plot the DB Index over the iterations. Don't forget to add title, axis ticks, and axis labels to the plot!"
   ]
  },
  {
   "cell_type": "code",
   "execution_count": null,
   "id": "23008094",
   "metadata": {},
   "outputs": [],
   "source": [
    "# your code here"
   ]
  },
  {
   "cell_type": "markdown",
   "id": "513bb3a3",
   "metadata": {},
   "source": [
    "### Task 2.6.2 Clustered Data vs. Labeled Data\n",
    "In the beginning, we told our _k_-Means algorithm to separate the data into _k_ clusters after determining _k_ based on the number of cluss labels in the dataset.\n",
    "\n",
    "Create two plots side-by-side (using subplots), where one side is showing the clustered data and the other side is showing the partitions of the labeled data. "
   ]
  },
  {
   "cell_type": "code",
   "execution_count": null,
   "id": "b012a14c",
   "metadata": {},
   "outputs": [],
   "source": [
    "# your code here"
   ]
  },
  {
   "cell_type": "markdown",
   "id": "182299a3",
   "metadata": {},
   "source": [
    "## 2.7 _k_-Means in the Wild\n",
    "It is quite fun to write the _k_-Means algorithm bottom-up. But, usually, a practitioner would rely on libraries, which have already implemented the algorithm, if possible.\n",
    "_k_-Means is implemented in the `scikit-learn` library, so we are going to use it to cluster somewhat more complex data and visualize the cluster centers."
   ]
  },
  {
   "cell_type": "code",
   "execution_count": null,
   "id": "8653373f",
   "metadata": {},
   "outputs": [],
   "source": [
    "from sklearn.datasets import load_digits\n",
    "from sklearn.cluster import KMeans"
   ]
  },
  {
   "cell_type": "markdown",
   "id": "23d20cc6",
   "metadata": {},
   "source": [
    "### Task 2.7.1 Digits Data and the _k_-Question\n",
    "Load the [Digits Dataset](https://scikit-learn.org/stable/datasets/toy_dataset.html#digits-dataset) and decide on a reasonable number of cluster centers."
   ]
  },
  {
   "cell_type": "code",
   "execution_count": null,
   "id": "f6a6aabc",
   "metadata": {},
   "outputs": [],
   "source": [
    "# your code here"
   ]
  },
  {
   "cell_type": "markdown",
   "id": "1dcd07b6",
   "metadata": {},
   "source": [
    "### Task 2.7.2 Run the _k_-Means Algorithm\n",
    "Use the provided _k_-Means object on the digits data and extract the cluster centers."
   ]
  },
  {
   "cell_type": "code",
   "execution_count": null,
   "id": "9ece7d80",
   "metadata": {},
   "outputs": [],
   "source": [
    "# your code here"
   ]
  },
  {
   "cell_type": "markdown",
   "id": "03cbd617",
   "metadata": {},
   "source": [
    "### 2.7.3 Plot the Cluster Centers\n",
    "Plot all the extracted cluster centers as images."
   ]
  },
  {
   "cell_type": "code",
   "execution_count": null,
   "id": "4b3f5488",
   "metadata": {},
   "outputs": [],
   "source": [
    "# your code here"
   ]
  },
  {
   "cell_type": "markdown",
   "id": "cd20266e",
   "metadata": {},
   "source": [
    "Now you have implemented the _k_-Means algorithm bottom-up as well as using the corresponding libraries in a sensible way. Good work!"
   ]
  },
  {
   "cell_type": "code",
   "execution_count": null,
   "id": "5ea67fc3",
   "metadata": {},
   "outputs": [],
   "source": []
  }
 ],
 "metadata": {
  "kernelspec": {
   "display_name": "Python 3 (ipykernel)",
   "language": "python",
   "name": "python3"
  },
  "language_info": {
   "codemirror_mode": {
    "name": "ipython",
    "version": 3
   },
   "file_extension": ".py",
   "mimetype": "text/x-python",
   "name": "python",
   "nbconvert_exporter": "python",
   "pygments_lexer": "ipython3",
   "version": "3.9.6"
  }
 },
 "nbformat": 4,
 "nbformat_minor": 5
}
